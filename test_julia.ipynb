{
 "cells": [
  {
   "cell_type": "markdown",
   "metadata": {
    "collapsed": true
   },
   "source": [
    " https://github.com/JuliaLang/julia/blob/v0.5.0/NEWS.md"
   ]
  },
  {
   "cell_type": "code",
   "execution_count": 1,
   "metadata": {
    "collapsed": false
   },
   "outputs": [
    {
     "data": {
      "text/plain": [
       "julia05"
      ]
     },
     "execution_count": 1,
     "metadata": {},
     "output_type": "execute_result"
    }
   ],
   "source": [
    "\"\"\"\n",
    "Julia v0.5.0 Release Notes\n",
    "==========================\n",
    "\n",
    "New language features\n",
    "---------------------\n",
    "\n",
    "  * Generator expressions: `f(i) for i in 1:n` ([#4470]). This returns an iterator\n",
    "    that computes the specified values on demand. This is useful for computing, e.g.\n",
    "    `sum(f(i) for i in 1:n)` without creating an intermediate array of values.\n",
    "\n",
    "  * Generators and comprehensions support filtering using `if` ([#550]) and nested\n",
    "    iteration using multiple `for` keywords ([#4867]).\n",
    "\n",
    "  * Fused broadcasting syntax: ``f.(args...)`` is equivalent to ``broadcast(f, args...)`` ([#15032]),\n",
    "    and nested `f.(g.(args...))` calls are fused into a single `broadcast` loop ([#17300]).\n",
    "    Similarly, the syntax `x .= ...` is equivalent to a `broadcast!(identity, x, ...)`\n",
    "    call and fuses with nested \"dot\" calls; also, `x .+= y` and similar is now\n",
    "    equivalent to `x .= x .+ y`, rather than `x = x .+ y` ([#17510]).\n",
    "\n",
    "  * Macro expander functions are now generic, so macros can have multiple definitions\n",
    "    (e.g. for different numbers of arguments, or optional arguments) ([#8846], [#9627]).\n",
    "    However note that the argument types refer to the syntax tree representation, and not\n",
    "    to the types of run time values.\n",
    "\n",
    "  * Varargs functions like `foo{T}(x::T...)` may now restrict the number\n",
    "    of such arguments using `foo{T,N}(x::Vararg{T,N})` ([#11242]).\n",
    "\n",
    "  * `x ∈ X` is now a synonym for `x in X` in `for` loops and comprehensions,\n",
    "    as it already was in comparisons ([#13824]).\n",
    "\n",
    "  * The `PROGRAM_FILE` global is now available for determining the name of the running script ([#14114]).\n",
    "\n",
    "  * The syntax `x.:sym` (e.g. `Base.:+`) is now supported, while using `x.(:sym)`\n",
    "    or `x.(i)` for field access are deprecated in favor of `getfield` ([#15032]).\n",
    "\n",
    "  * Function return type syntax `function f()::T` has been added ([#1090]). Values returned\n",
    "    from a function with such a declaration will be converted to the specified type `T`.\n",
    "\n",
    "  * Many more operators now support `.` prefixes (e.g. `.≤`) ([#17393]).  However,\n",
    "    users are discouraged from overloading these, since they are mainly parsed\n",
    "    in order to implement backwards compatibility with planned automatic\n",
    "    broadcasting of dot operators in Julia 0.6 ([#16285]).  Explicitly qualified\n",
    "    operator names like `Base.≤` should now use `Base.:≤` (prefixed by `@compat`\n",
    "    if you need 0.4 compatibility via the `Compat` package).\n",
    "\n",
    "  * User-extensible bounds check elimination is now possible with the new\n",
    "    `@boundscheck` macro ([#14474]). This macro marks bounds checking code blocks,\n",
    "    which the compiler may remove when encountered inside an `@inbounds` call.\n",
    "\"\"\"\n",
    "julia05() = 0"
   ]
  },
  {
   "cell_type": "code",
   "execution_count": 2,
   "metadata": {
    "collapsed": false
   },
   "outputs": [
    {
     "name": "stdout",
     "output_type": "stream",
     "text": [
      "search: JULIA_HOME\n",
      "\n"
     ]
    },
    {
     "data": {
      "text/markdown": [
       "# Julia v0.5.0 Release Notes\n",
       "\n",
       "## New language features\n",
       "\n",
       "  * Generator expressions: `f(i) for i in 1:n` ([#4470]). This returns an iterator that computes the specified values on demand. This is useful for computing, e.g. `sum(f(i) for i in 1:n)` without creating an intermediate array of values.\n",
       "  * Generators and comprehensions support filtering using `if` ([#550]) and nested iteration using multiple `for` keywords ([#4867]).\n",
       "  * Fused broadcasting syntax: $f.(args...)$ is equivalent to $broadcast(f, args...)$ ([#15032]), and nested `f.(g.(args...))` calls are fused into a single `broadcast` loop ([#17300]). Similarly, the syntax `x .= ...` is equivalent to a `broadcast!(identity, x, ...)` call and fuses with nested \"dot\" calls; also, `x .+= y` and similar is now equivalent to `x .= x .+ y`, rather than `x = x .+ y` ([#17510]).\n",
       "  * Macro expander functions are now generic, so macros can have multiple definitions (e.g. for different numbers of arguments, or optional arguments) ([#8846], [#9627]). However note that the argument types refer to the syntax tree representation, and not to the types of run time values.\n",
       "  * Varargs functions like `foo{T}(x::T...)` may now restrict the number of such arguments using `foo{T,N}(x::Vararg{T,N})` ([#11242]).\n",
       "  * `x ∈ X` is now a synonym for `x in X` in `for` loops and comprehensions, as it already was in comparisons ([#13824]).\n",
       "  * The `PROGRAM_FILE` global is now available for determining the name of the running script ([#14114]).\n",
       "  * The syntax `x.:sym` (e.g. `Base.:+`) is now supported, while using `x.(:sym)` or `x.(i)` for field access are deprecated in favor of `getfield` ([#15032]).\n",
       "  * Function return type syntax `function f()::T` has been added ([#1090]). Values returned from a function with such a declaration will be converted to the specified type `T`.\n",
       "  * Many more operators now support `.` prefixes (e.g. `.≤`) ([#17393]).  However, users are discouraged from overloading these, since they are mainly parsed in order to implement backwards compatibility with planned automatic broadcasting of dot operators in Julia 0.6 ([#16285]).  Explicitly qualified operator names like `Base.≤` should now use `Base.:≤` (prefixed by `@compat` if you need 0.4 compatibility via the `Compat` package).\n",
       "  * User-extensible bounds check elimination is now possible with the new `@boundscheck` macro ([#14474]). This macro marks bounds checking code blocks, which the compiler may remove when encountered inside an `@inbounds` call.\n"
      ],
      "text/plain": [
       "# Julia v0.5.0 Release Notes\n",
       "\n",
       "## New language features\n",
       "\n",
       "  * Generator expressions: `f(i) for i in 1:n` ([#4470]). This returns an iterator that computes the specified values on demand. This is useful for computing, e.g. `sum(f(i) for i in 1:n)` without creating an intermediate array of values.\n",
       "  * Generators and comprehensions support filtering using `if` ([#550]) and nested iteration using multiple `for` keywords ([#4867]).\n",
       "  * Fused broadcasting syntax: $f.(args...)$ is equivalent to $broadcast(f, args...)$ ([#15032]), and nested `f.(g.(args...))` calls are fused into a single `broadcast` loop ([#17300]). Similarly, the syntax `x .= ...` is equivalent to a `broadcast!(identity, x, ...)` call and fuses with nested \"dot\" calls; also, `x .+= y` and similar is now equivalent to `x .= x .+ y`, rather than `x = x .+ y` ([#17510]).\n",
       "  * Macro expander functions are now generic, so macros can have multiple definitions (e.g. for different numbers of arguments, or optional arguments) ([#8846], [#9627]). However note that the argument types refer to the syntax tree representation, and not to the types of run time values.\n",
       "  * Varargs functions like `foo{T}(x::T...)` may now restrict the number of such arguments using `foo{T,N}(x::Vararg{T,N})` ([#11242]).\n",
       "  * `x ∈ X` is now a synonym for `x in X` in `for` loops and comprehensions, as it already was in comparisons ([#13824]).\n",
       "  * The `PROGRAM_FILE` global is now available for determining the name of the running script ([#14114]).\n",
       "  * The syntax `x.:sym` (e.g. `Base.:+`) is now supported, while using `x.(:sym)` or `x.(i)` for field access are deprecated in favor of `getfield` ([#15032]).\n",
       "  * Function return type syntax `function f()::T` has been added ([#1090]). Values returned from a function with such a declaration will be converted to the specified type `T`.\n",
       "  * Many more operators now support `.` prefixes (e.g. `.≤`) ([#17393]).  However, users are discouraged from overloading these, since they are mainly parsed in order to implement backwards compatibility with planned automatic broadcasting of dot operators in Julia 0.6 ([#16285]).  Explicitly qualified operator names like `Base.≤` should now use `Base.:≤` (prefixed by `@compat` if you need 0.4 compatibility via the `Compat` package).\n",
       "  * User-extensible bounds check elimination is now possible with the new `@boundscheck` macro ([#14474]). This macro marks bounds checking code blocks, which the compiler may remove when encountered inside an `@inbounds` call.\n"
      ]
     },
     "execution_count": 2,
     "metadata": {},
     "output_type": "execute_result"
    }
   ],
   "source": [
    "?julia05"
   ]
  },
  {
   "cell_type": "markdown",
   "metadata": {},
   "source": [
    "\n",
    "### Generator expressions: f(i) for i in 1:n ([#4470]). This returns an iterator that computes the specified values on demand. This is useful for computing, e.g. sum(f(i) for i in 1:n) without creating an intermediate array of values.\n",
    "\n",
    "* https://github.com/JuliaLang/julia/issues/4470\n",
    "\n",
    "``` sh\n",
    "~/work/julia/test $ grep \\#4470 * -r\n",
    "functional.jl:# generators (#4470, #14848)\n",
    "```\n",
    "\n"
   ]
  },
  {
   "cell_type": "code",
   "execution_count": 3,
   "metadata": {
    "collapsed": false
   },
   "outputs": [],
   "source": [
    "using Base.Test\n",
    "\n",
    "# generators (#4470, #14848)\n",
    "\n",
    "@test sum(i/2 for i=1:2) == 1.5\n",
    "@test collect(2i for i=2:5) == [4,6,8,10]\n",
    "@test collect((i+10j for i=1:2,j=3:4)) == [31 41; 32 42]\n",
    "@test collect((i+10j for i=1:2,j=3:4,k=1:1)) == reshape([31 41; 32 42], (2,2,1))\n",
    "\n",
    "let A = collect(Base.Generator(x->2x, Real[1.5,2.5]))\n",
    "    @test A == [3,5]\n",
    "    @test isa(A,Vector{Float64})\n",
    "end\n",
    "\n",
    "let f(g) = (@test size(g.iter)==(2,3))\n",
    "    f(i+j for i=1:2, j=3:5)\n",
    "end\n",
    ";"
   ]
  },
  {
   "cell_type": "code",
   "execution_count": 4,
   "metadata": {
    "collapsed": false
   },
   "outputs": [
    {
     "data": {
      "text/plain": [
       "1.5"
      ]
     },
     "execution_count": 4,
     "metadata": {},
     "output_type": "execute_result"
    }
   ],
   "source": [
    "sum(i/2 for i=1:2)"
   ]
  },
  {
   "cell_type": "markdown",
   "metadata": {},
   "source": [
    "### Generators and comprehensions support filtering using if ([#550]) and nested iteration using multiple for keywords ([#4867]).\n",
    "\n",
    "* https://github.com/JuliaLang/julia/issues/550\n",
    "* https://github.com/JuliaLang/julia/issues/4867\n",
    "\n",
    "```sh\n",
    "~/work/julia/test $ grep \\#4867 * -r\n",
    "functional.jl:# generators with nested loops (#4867)\n",
    "```"
   ]
  },
  {
   "cell_type": "code",
   "execution_count": 5,
   "metadata": {
    "collapsed": false
   },
   "outputs": [
    {
     "data": {
      "text/plain": [
       "Test Passed\n",
       "  Expression: [(i,j) for i = 1:3 for j = 1:i if j > 1] == [(2,2),(3,2),(3,3)]\n",
       "   Evaluated: Tuple{Int64,Int64}[(2,2),(3,2),(3,3)] == Tuple{Int64,Int64}[(2,2),(3,2),(3,3)]"
      ]
     },
     "execution_count": 5,
     "metadata": {},
     "output_type": "execute_result"
    }
   ],
   "source": [
    "# generators with nested loops (#4867)\n",
    "\n",
    "@test [(i,j) for i=1:3 for j=1:i] == [(1,1), (2,1), (2,2), (3,1), (3,2), (3,3)]\n",
    "\n",
    "@test [(i,j) for i=1:3 for j=1:i if j>1] == [(2,2), (3,2), (3,3)]"
   ]
  },
  {
   "cell_type": "code",
   "execution_count": 6,
   "metadata": {
    "collapsed": false
   },
   "outputs": [
    {
     "data": {
      "text/plain": [
       "6-element Array{Tuple{Int64,Int64},1}:\n",
       " (1,1)\n",
       " (2,1)\n",
       " (2,2)\n",
       " (3,1)\n",
       " (3,2)\n",
       " (3,3)"
      ]
     },
     "execution_count": 6,
     "metadata": {},
     "output_type": "execute_result"
    }
   ],
   "source": [
    "[(i,j) for i=1:3 for j=1:i]"
   ]
  },
  {
   "cell_type": "markdown",
   "metadata": {},
   "source": [
    "### Fused broadcasting syntax:  f.(args...)f.(args...)  is equivalent to  broadcast(f,args...)broadcast(f,args...)  ([#15032]), and nested f.(g.(args...)) calls are fused into a single broadcast loop ([#17300]). Similarly, the syntax x .= ... is equivalent to a broadcast!(identity, x, ...) call and fuses with nested \"dot\" calls; also, x .+= y and similar is now equivalent to x .= x .+ y, rather than x = x .+ y ([#17510]).\n",
    "\n",
    "* https://github.com/JuliaLang/julia/pull/15032\n",
    "* https://github.com/JuliaLang/julia/pull/17300\n",
    "* https://github.com/JuliaLang/julia/pull/17510\n",
    "\n",
    "```sh\n",
    "~/work/julia/test $ grep \\#15032 * -r\n",
    "broadcast.jl:# f.(args...) syntax (#15032)\n",
    "core.jl:# f.(x) vectorization syntax (#15032)\n",
    "```"
   ]
  },
  {
   "cell_type": "code",
   "execution_count": 7,
   "metadata": {
    "collapsed": false
   },
   "outputs": [
    {
     "data": {
      "text/plain": [
       "Test Passed\n",
       "  Expression: atan2.(α,y') == broadcast(atan2,α,y')\n",
       "   Evaluated: [0.0668147 0.0744105 1.57037] == [0.0668147 0.0744105 1.57037]"
      ]
     },
     "execution_count": 7,
     "metadata": {},
     "output_type": "execute_result"
    }
   ],
   "source": [
    "# f.(args...) syntax (#15032)\n",
    "let x = [1,3.2,4.7], y = [3.5, pi, 1e-4], α = 0.2342\n",
    "    @test sin.(x) == broadcast(sin, x)\n",
    "    @test sin.(α) == broadcast(sin, α)\n",
    "    @test sin.(3.2) == broadcast(sin, 3.2) == sin(3.2)\n",
    "    @test factorial.(3) == broadcast(factorial, 3)\n",
    "    @test atan2.(x, y) == broadcast(atan2, x, y)\n",
    "    @test atan2.(x, y') == broadcast(atan2, x, y')\n",
    "    @test atan2.(x, α) == broadcast(atan2, x, α)\n",
    "    @test atan2.(α, y') == broadcast(atan2, α, y')\n",
    "end"
   ]
  },
  {
   "cell_type": "code",
   "execution_count": 8,
   "metadata": {
    "collapsed": false
   },
   "outputs": [
    {
     "data": {
      "text/plain": [
       "3-element Array{Float64,1}:\n",
       "  0.841471 \n",
       " -0.0583741\n",
       " -0.999923 "
      ]
     },
     "execution_count": 8,
     "metadata": {},
     "output_type": "execute_result"
    }
   ],
   "source": [
    "x = [1,3.2,4.7]\n",
    "sin.(x)"
   ]
  },
  {
   "cell_type": "markdown",
   "metadata": {},
   "source": [
    "### Macro expander functions are now generic, so macros can have multiple definitions (e.g. for different numbers of arguments, or optional arguments) ([#8846], [#9627]). However note that the argument types refer to the syntax tree representation, and not to the types of run time values.\n",
    "\n",
    "* https://github.com/JuliaLang/julia/issues/8846\n",
    "* https://github.com/JuliaLang/julia/issues/9627\n",
    "\n",
    "```sh\n",
    "~/work/julia/test $ grep \\#8846 * -r\n",
    "core.jl:# issue #8846, generic macros\n",
    "```"
   ]
  },
  {
   "cell_type": "code",
   "execution_count": 9,
   "metadata": {
    "collapsed": false
   },
   "outputs": [
    {
     "data": {
      "text/plain": [
       "Test Passed\n",
       "  Expression: eval($(Expr(:quote, :(@m8846 a b c))))\n",
       "      Thrown: MethodError"
      ]
     },
     "execution_count": 9,
     "metadata": {},
     "output_type": "execute_result"
    }
   ],
   "source": [
    "# issue #8846, generic macros\n",
    "macro m8846(a, b=0)\n",
    "    a, b\n",
    "end\n",
    "@test @m8846(a) === (:a, 0)\n",
    "@test @m8846(a,1) === (:a, 1)\n",
    "@test_throws MethodError eval(:(@m8846(a,b,c)))"
   ]
  },
  {
   "cell_type": "code",
   "execution_count": 10,
   "metadata": {
    "collapsed": false
   },
   "outputs": [
    {
     "data": {
      "text/plain": [
       "(:a,0)"
      ]
     },
     "execution_count": 10,
     "metadata": {},
     "output_type": "execute_result"
    }
   ],
   "source": [
    "@m8846(a)"
   ]
  },
  {
   "cell_type": "code",
   "execution_count": 11,
   "metadata": {
    "collapsed": false
   },
   "outputs": [
    {
     "data": {
      "text/plain": [
       "(:a,1)"
      ]
     },
     "execution_count": 11,
     "metadata": {},
     "output_type": "execute_result"
    }
   ],
   "source": [
    "@m8846(a, 1)"
   ]
  },
  {
   "cell_type": "markdown",
   "metadata": {},
   "source": [
    "### Varargs functions like `foo{T}(x::T...)` may now restrict the number of such arguments using `foo{T,N}(x::Vararg{T,N})` ([#11242]).\n",
    "\n",
    "* https://github.com/JuliaLang/julia/issues/11242\n",
    "* http://docs.julialang.org/en/release-0.5/devdocs/types/#typevars\n",
    "\n",
    "```sh\n",
    "~/work/julia/test $ grep \\#11242 * -r\n",
    "abstractarray.jl:# Until #11242 is merged, we need to define each dimension independently\n",
    "```"
   ]
  },
  {
   "cell_type": "code",
   "execution_count": 12,
   "metadata": {
    "collapsed": false
   },
   "outputs": [
    {
     "data": {
      "text/plain": [
       "svec(T,N)"
      ]
     },
     "execution_count": 12,
     "metadata": {},
     "output_type": "execute_result"
    }
   ],
   "source": [
    "T,N = Array.parameters"
   ]
  },
  {
   "cell_type": "code",
   "execution_count": 13,
   "metadata": {
    "collapsed": false
   },
   "outputs": [
    {
     "name": "stdout",
     "output_type": "stream",
     "text": [
      "TypeVar\n",
      "  name: Symbol T\n",
      "  lb: Union{}\n",
      "  ub: Any\n",
      "  bound: Bool false\n"
     ]
    }
   ],
   "source": [
    "dump(T)"
   ]
  },
  {
   "cell_type": "code",
   "execution_count": 14,
   "metadata": {
    "collapsed": false
   },
   "outputs": [
    {
     "data": {
      "text/plain": [
       "foo (generic function with 1 method)"
      ]
     },
     "execution_count": 14,
     "metadata": {},
     "output_type": "execute_result"
    }
   ],
   "source": [
    "foo{T,N}(x::Vararg{T,N}) = (T,N)"
   ]
  },
  {
   "cell_type": "code",
   "execution_count": 15,
   "metadata": {
    "collapsed": false
   },
   "outputs": [
    {
     "data": {
      "text/plain": [
       "(String,2)"
      ]
     },
     "execution_count": 15,
     "metadata": {},
     "output_type": "execute_result"
    }
   ],
   "source": [
    "foo(\"a\",\"b\")"
   ]
  },
  {
   "cell_type": "code",
   "execution_count": 16,
   "metadata": {
    "collapsed": false
   },
   "outputs": [
    {
     "data": {
      "text/plain": [
       "(Int64,5)"
      ]
     },
     "execution_count": 16,
     "metadata": {},
     "output_type": "execute_result"
    }
   ],
   "source": [
    "foo(1,2,3,4,5)"
   ]
  },
  {
   "cell_type": "markdown",
   "metadata": {},
   "source": [
    "### x ∈ X is now a synonym for x in X in for loops and comprehensions, as it already was in comparisons ([#13824]).\n",
    "\n",
    "* https://github.com/JuliaLang/julia/issues/13824\n",
    "\n",
    "* https://en.wikipedia.org/wiki/Element_(mathematics)\n",
    "\n",
    "x ∈ A\n",
    " : x is an element of A"
   ]
  },
  {
   "cell_type": "code",
   "execution_count": 17,
   "metadata": {
    "collapsed": false
   },
   "outputs": [
    {
     "name": "stdout",
     "output_type": "stream",
     "text": [
      "x 1\n",
      "x 2\n",
      "x 3\n",
      "x 4\n",
      "x 5\n"
     ]
    }
   ],
   "source": [
    "for x ∈ [1,2,3,4,5]\n",
    "    println(\"x \", x)\n",
    "end"
   ]
  },
  {
   "cell_type": "code",
   "execution_count": 18,
   "metadata": {
    "collapsed": false
   },
   "outputs": [
    {
     "data": {
      "text/plain": [
       "true"
      ]
     },
     "execution_count": 18,
     "metadata": {},
     "output_type": "execute_result"
    }
   ],
   "source": [
    "A = [1,2,3,4,5]\n",
    "x = 2\n",
    "x ∈ A"
   ]
  },
  {
   "cell_type": "markdown",
   "metadata": {},
   "source": [
    "### The `PROGRAM_FILE` global is now available for determining the name of the running script ([#14114]).\n",
    "\n",
    "* https://github.com/JuliaLang/julia/issues/14114"
   ]
  },
  {
   "cell_type": "code",
   "execution_count": 19,
   "metadata": {
    "collapsed": false
   },
   "outputs": [
    {
     "data": {
      "text/plain": [
       "\"/Users/wookyoung/.julia/v0.5/IJulia/src/kernel.jl\""
      ]
     },
     "execution_count": 19,
     "metadata": {},
     "output_type": "execute_result"
    }
   ],
   "source": [
    "PROGRAM_FILE"
   ]
  },
  {
   "cell_type": "markdown",
   "metadata": {},
   "source": [
    "### The syntax `x.:sym` (e.g. `Base.:+`) is now supported, while using `x.(:sym)` or `x.(i)` for field access are deprecated in favor of `getfield` ([#15032]).\n",
    "\n",
    "* https://github.com/JuliaLang/julia/issues/15032"
   ]
  },
  {
   "cell_type": "code",
   "execution_count": 20,
   "metadata": {
    "collapsed": false
   },
   "outputs": [
    {
     "data": {
      "text/plain": [
       "+ (generic function with 163 methods)"
      ]
     },
     "execution_count": 20,
     "metadata": {},
     "output_type": "execute_result"
    }
   ],
   "source": [
    "Base.:+"
   ]
  },
  {
   "cell_type": "code",
   "execution_count": 21,
   "metadata": {
    "collapsed": false
   },
   "outputs": [
    {
     "data": {
      "text/plain": [
       "+ (generic function with 163 methods)"
      ]
     },
     "execution_count": 21,
     "metadata": {},
     "output_type": "execute_result"
    }
   ],
   "source": [
    "getfield(Base, :+)"
   ]
  },
  {
   "cell_type": "markdown",
   "metadata": {},
   "source": [
    "###   * Function return type syntax `function f()::T` has been added ([#1090]). Values returned from a function with such a declaration will be converted to the specified type `T`.\n",
    "\n",
    "* https://github.com/JuliaLang/julia/issues/1090\n",
    "\n",
    "```sh\n",
    "~/work/julia/test $ grep \\#1090 * -r\n",
    "core.jl:# issue #1090\n",
    "parse.jl:# issue #10900\n",
    "parse.jl:# issue #10901\n",
    "```"
   ]
  },
  {
   "cell_type": "code",
   "execution_count": 22,
   "metadata": {
    "collapsed": false
   },
   "outputs": [
    {
     "data": {
      "text/plain": [
       "Test Passed\n",
       "  Expression: g1090(Float32(3)) === Float32(4)\n",
       "   Evaluated: 4.0f0 is 4.0f0"
      ]
     },
     "execution_count": 22,
     "metadata": {},
     "output_type": "execute_result"
    }
   ],
   "source": [
    "# issue #1090\n",
    "function f1090(x)::Int\n",
    "    if x == 1\n",
    "        return 1\n",
    "    end\n",
    "    2.0\n",
    "end\n",
    "@test f1090(1) === 1\n",
    "@test f1090(2) === 2\n",
    "g1090{T}(x::T)::T = x+1.0\n",
    "@test g1090(1) === 2\n",
    "@test g1090(Float32(3)) === Float32(4)"
   ]
  },
  {
   "cell_type": "markdown",
   "metadata": {},
   "source": [
    "### Many more operators now support . prefixes (e.g. .≤) ([#17393]). However, users are discouraged from overloading these, since they are mainly parsed in order to implement backwards compatibility with planned automatic broadcasting of dot operators in Julia 0.6 ([#16285]). Explicitly qualified operator names like Base.≤ should now use Base.:≤ (prefixed by @compat if you need 0.4 compatibility via the Compat package).\n",
    "\n",
    "* https://github.com/JuliaLang/julia/issues/17393\n",
    "* Vectorization Roadmap #16285 https://github.com/JuliaLang/julia/issues/16285"
   ]
  },
  {
   "cell_type": "code",
   "execution_count": 23,
   "metadata": {
    "collapsed": false
   },
   "outputs": [
    {
     "data": {
      "text/plain": [
       "<= (generic function with 50 methods)"
      ]
     },
     "execution_count": 23,
     "metadata": {},
     "output_type": "execute_result"
    }
   ],
   "source": [
    "≤"
   ]
  },
  {
   "cell_type": "code",
   "execution_count": 24,
   "metadata": {
    "collapsed": false
   },
   "outputs": [
    {
     "data": {
      "text/plain": [
       "true"
      ]
     },
     "execution_count": 24,
     "metadata": {},
     "output_type": "execute_result"
    }
   ],
   "source": [
    "1 ≤ 2"
   ]
  },
  {
   "cell_type": "markdown",
   "metadata": {},
   "source": [
    "### User-extensible bounds check elimination is now possible with the new `@boundscheck` macro ([#14474]). This macro marks bounds checking code blocks, which the compiler may remove when encountered inside an `@inbounds` call.\n",
    "\n",
    "* https://github.com/JuliaLang/julia/pull/14474\n",
    "* https://github.com/JuliaLang/julia/issues/7799\n",
    "\n",
    "* http://docs.julialang.org/en/release-0.5/devdocs/boundscheck/\n",
    "\n",
    "* https://en.wikipedia.org/wiki/Bounds_checking\n",
    "* https://en.wikipedia.org/wiki/Inline_function"
   ]
  },
  {
   "cell_type": "code",
   "execution_count": 25,
   "metadata": {
    "collapsed": false
   },
   "outputs": [
    {
     "data": {
      "text/plain": [
       "inb (generic function with 1 method)"
      ]
     },
     "execution_count": 25,
     "metadata": {},
     "output_type": "execute_result"
    }
   ],
   "source": [
    "function inb(a)\n",
    "    i = 2\n",
    "    @inbounds a[i] = 5\n",
    "    a\n",
    "end"
   ]
  },
  {
   "cell_type": "code",
   "execution_count": 26,
   "metadata": {
    "collapsed": false
   },
   "outputs": [
    {
     "data": {
      "text/plain": [
       "1-element Array{Int64,1}:\n",
       " 1"
      ]
     },
     "execution_count": 26,
     "metadata": {},
     "output_type": "execute_result"
    }
   ],
   "source": [
    "inb([1])"
   ]
  },
  {
   "cell_type": "code",
   "execution_count": 27,
   "metadata": {
    "collapsed": false
   },
   "outputs": [
    {
     "data": {
      "text/plain": [
       "2-element Array{Int64,1}:\n",
       " 1\n",
       " 5"
      ]
     },
     "execution_count": 27,
     "metadata": {},
     "output_type": "execute_result"
    }
   ],
   "source": [
    "inb([1,2])"
   ]
  },
  {
   "cell_type": "code",
   "execution_count": 28,
   "metadata": {
    "collapsed": false
   },
   "outputs": [
    {
     "data": {
      "text/plain": [
       "bou (generic function with 1 method)"
      ]
     },
     "execution_count": 28,
     "metadata": {},
     "output_type": "execute_result"
    }
   ],
   "source": [
    "function bou(a)\n",
    "    @boundscheck length(a) > 1 || throw(BoundsError(\"> 1\"))\n",
    "    a\n",
    "end"
   ]
  },
  {
   "cell_type": "code",
   "execution_count": 31,
   "metadata": {
    "collapsed": false
   },
   "outputs": [
    {
     "ename": "LoadError",
     "evalue": "BoundsError: attempt to access \"> 1\"",
     "output_type": "error",
     "traceback": [
      "BoundsError: attempt to access \"> 1\"",
      "",
      " in bou(::Array{Int64,1}) at ./In[28]:2"
     ]
    }
   ],
   "source": [
    "bou([5])"
   ]
  },
  {
   "cell_type": "code",
   "execution_count": 32,
   "metadata": {
    "collapsed": false
   },
   "outputs": [
    {
     "data": {
      "text/plain": [
       "2-element Array{Int64,1}:\n",
       " 5\n",
       " 6"
      ]
     },
     "execution_count": 32,
     "metadata": {},
     "output_type": "execute_result"
    }
   ],
   "source": [
    "bou([5,6])"
   ]
  },
  {
   "cell_type": "code",
   "execution_count": 33,
   "metadata": {
    "collapsed": false,
    "scrolled": true
   },
   "outputs": [
    {
     "name": "stdout",
     "output_type": "stream",
     "text": [
      "search: checkbounds\n",
      "\n"
     ]
    },
    {
     "data": {
      "text/markdown": [
       "```\n",
       "checkbounds(Bool, A, I...)\n",
       "```\n",
       "\n",
       "Return `true` if the specified indices `I` are in bounds for the given array `A`. Subtypes of `AbstractArray` should specialize this method if they need to provide custom bounds checking behaviors; however, in many cases one can rely on `A`'s indices and `checkindex`.\n",
       "\n",
       "See also `checkindex`.\n",
       "\n",
       "```\n",
       "checkbounds(A, I...)\n",
       "```\n",
       "\n",
       "Throw an error if the specified indices `I` are not in bounds for the given array `A`.\n"
      ],
      "text/plain": [
       "```\n",
       "checkbounds(Bool, A, I...)\n",
       "```\n",
       "\n",
       "Return `true` if the specified indices `I` are in bounds for the given array `A`. Subtypes of `AbstractArray` should specialize this method if they need to provide custom bounds checking behaviors; however, in many cases one can rely on `A`'s indices and `checkindex`.\n",
       "\n",
       "See also `checkindex`.\n",
       "\n",
       "```\n",
       "checkbounds(A, I...)\n",
       "```\n",
       "\n",
       "Throw an error if the specified indices `I` are not in bounds for the given array `A`.\n"
      ]
     },
     "execution_count": 33,
     "metadata": {},
     "output_type": "execute_result"
    }
   ],
   "source": [
    "?checkbounds"
   ]
  },
  {
   "cell_type": "code",
   "execution_count": 34,
   "metadata": {
    "collapsed": false
   },
   "outputs": [
    {
     "name": "stdout",
     "output_type": "stream",
     "text": [
      "search: checkindex\n",
      "\n"
     ]
    },
    {
     "data": {
      "text/markdown": [
       "```\n",
       "checkindex(Bool, inds::AbstractUnitRange, index)\n",
       "```\n",
       "\n",
       "Return `true` if the given `index` is within the bounds of `inds`. Custom types that would like to behave as indices for all arrays can extend this method in order to provide a specialized bounds checking implementation.\n"
      ],
      "text/plain": [
       "```\n",
       "checkindex(Bool, inds::AbstractUnitRange, index)\n",
       "```\n",
       "\n",
       "Return `true` if the given `index` is within the bounds of `inds`. Custom types that would like to behave as indices for all arrays can extend this method in order to provide a specialized bounds checking implementation.\n"
      ]
     },
     "execution_count": 34,
     "metadata": {},
     "output_type": "execute_result"
    }
   ],
   "source": [
    "?checkindex"
   ]
  },
  {
   "cell_type": "code",
   "execution_count": null,
   "metadata": {
    "collapsed": true
   },
   "outputs": [],
   "source": []
  }
 ],
 "metadata": {
  "kernelspec": {
   "display_name": "Julia 0.5.0",
   "language": "julia",
   "name": "julia-0.5"
  },
  "language_info": {
   "file_extension": ".jl",
   "mimetype": "application/julia",
   "name": "julia",
   "version": "0.5.0"
  },
  "widgets": {
   "state": {},
   "version": "1.1.2"
  }
 },
 "nbformat": 4,
 "nbformat_minor": 1
}
