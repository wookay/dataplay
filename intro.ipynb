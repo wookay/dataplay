{
 "cells": [
  {
   "cell_type": "markdown",
   "metadata": {
    "slideshow": {
     "slide_type": "slide"
    }
   },
   "source": [
    "# Julia 0.5\n",
    "* DataFrames.jl\n",
    "* TensorFlow.jl\n",
    "\n",
    "<br/>\n",
    "\n",
    "<div>\n",
    "    <ul style=\"list-style-type: none; display: block; text-align: right;\">\n",
    "        <li>October 14, 2016</li>\n",
    "        <li>wookyoung noh</li>\n",
    "        <li>https://github.com/wookay</li>\n",
    "     </ul>\n",
    "</div>"
   ]
  },
  {
   "cell_type": "markdown",
   "metadata": {
    "slideshow": {
     "slide_type": "slide"
    }
   },
   "source": [
    " # 목차 1\n",
    "\n",
    "* 발표자 소개\n",
    "\n",
    "* Julia 0.5\n",
    "* Julia Packages\n",
    " - DataFrames.jl & 경쟁자\n",
    " - TensorFlow.jl & 경쟁자\n",
    "\n",
    "<br /><br /><br /><br /><br /><br />"
   ]
  },
  {
   "cell_type": "markdown",
   "metadata": {
    "slideshow": {
     "slide_type": "slide"
    }
   },
   "source": [
    "# 목차 2\n",
    "\n",
    "* Julia 커뮤니티\n",
    " - 깃헙, 메일링 리스트\n",
    " - JuliaCon, Julia in the classroom\n",
    " \n",
    "* Julia Korea 커뮤니티\n",
    " - 페이스북, 슬랙, 깃헙\n",
    " - 줄리아 문서 번역 프로젝트\n",
    "\n",
    "* 개발 툴\n",
    " - REPL, Jupyter notebook, Juno IDE\n",
    "\n",
    "* 코딩 시간\n",
    " - Julia 0.5, 0.6, 1.0, 2.0"
   ]
  },
  {
   "cell_type": "markdown",
   "metadata": {
    "slideshow": {
     "slide_type": "slide"
    }
   },
   "source": [
    "# 발표자 소개\n",
    "\n",
    "<br />\n",
    "\n",
    "https://github.com/wookay/hackdiary/blob/master/merged/Julia.md\n",
    "\n",
    "https://github.com/wookay/journal/wiki/언어-덕후의-일기\n",
    "\n",
    "<br /><br /><br /><br /><br /><br /><br />"
   ]
  },
  {
   "cell_type": "markdown",
   "metadata": {
    "slideshow": {
     "slide_type": "slide"
    }
   },
   "source": [
    "# Julia 0.5\n",
    "\n",
    "* 2016년 9월 19일 릴리즈\n",
    "\n",
    "* Version 0.5.0 (2016-09-19 18:14 UTC)\n",
    "\n",
    "https://github.com/JuliaLang/julia/milestone/14\n",
    "\n",
    "\n",
    "<br /><br /><br /><br /><br /><br /><br />"
   ]
  },
  {
   "cell_type": "markdown",
   "metadata": {
    "slideshow": {
     "slide_type": "slide"
    }
   },
   "source": [
    "# Julia Packages\n",
    "\n",
    "<br />\n",
    "\n",
    "```julia\n",
    "julia> Pkg.add(\"DataFrames\")\n",
    "\n",
    "julia> Pkg.add(\"TensorFlow\")\n",
    "```\n",
    "\n",
    "<br /><br /><br /><br /><br /><br /><br />"
   ]
  },
  {
   "cell_type": "markdown",
   "metadata": {
    "slideshow": {
     "slide_type": "slide"
    }
   },
   "source": [
    "# Julia Statistics \n",
    "\n",
    " Statistics and Machine Learning made easy in Julia\n",
    "\n",
    " * https://github.com/JuliaStats\n",
    "\n",
    "\n",
    "\n",
    "<br /><br /><br /><br /><br /><br /><br /><br />"
   ]
  },
  {
   "cell_type": "markdown",
   "metadata": {
    "slideshow": {
     "slide_type": "slide"
    }
   },
   "source": [
    "# DataFrames.jl\n",
    "\n",
    "library for working with tabular data in Julia\n",
    "\n",
    " * https://github.com/JuliaStats/DataFrames.jl\n",
    " \n",
    " <br />\n",
    " \n",
    "### 경쟁자\n",
    "* R\n",
    "\n",
    "* Python pandas\n",
    "\n",
    "<br /><br />"
   ]
  },
  {
   "cell_type": "markdown",
   "metadata": {
    "slideshow": {
     "slide_type": "slide"
    }
   },
   "source": [
    "### pandas & DataFrames.jl | wc\n",
    "\n",
    "<br />\n",
    "\n",
    "```sh\n",
    "~/work/python/pandas $ git shortlog --numbered --summary | wc\n",
    "     757    2098   14956\n",
    "```\n",
    "\n",
    "```sh\n",
    "~/.julia/v0.5/DataFrames $ git shortlog --numbered --summary | wc\n",
    "     105     301    2118\n",
    "```\n",
    "\n",
    "<br /><br /><br />"
   ]
  },
  {
   "cell_type": "markdown",
   "metadata": {
    "slideshow": {
     "slide_type": "slide"
    }
   },
   "source": [
    "https://github.com/JuliaStats/DataFrames.jl/graphs/contributors\n",
    "\n",
    "<img src=\"./images/dataframes/contributors.png\" alt=\"contributors of DataFrames.jl\"/>"
   ]
  },
  {
   "cell_type": "markdown",
   "metadata": {
    "collapsed": true,
    "slideshow": {
     "slide_type": "slide"
    }
   },
   "source": [
    "* John Myles White - O'Reilly Media http://www.oreilly.com/pub/au/4730\n",
    "<img src=\"./images/dataframes/johnmyleswhite.png\" alt=\"John Myles White\"/>"
   ]
  },
  {
   "cell_type": "markdown",
   "metadata": {
    "slideshow": {
     "slide_type": "slide"
    }
   },
   "source": [
    "# TensorFlow.jl\n",
    "\n",
    " Julia wrapper for TensorFlow\n",
    "\n",
    "\n",
    " * https://github.com/malmaud/TensorFlow.jl\n",
    " \n",
    "<br />\n",
    " \n",
    "### 경쟁자\n",
    "\n",
    "  * Python\n",
    "  \n",
    "<br /><br /><br />"
   ]
  },
  {
   "cell_type": "markdown",
   "metadata": {
    "slideshow": {
     "slide_type": "slide"
    }
   },
   "source": [
    "# TensorFlow\n",
    "\n",
    "* TensorFlow https://www.tensorflow.org/\n",
    "\n",
    " TensorFlow is an Open Source Software Library for Machine Intelligence\n",
    "\n",
    " TensorFlow was originally developed by researchers and engineers working on the Google Brain Team within Google's Machine Intelligence research organization for the purposes of conducting machine learning and deep neural networks research, but the system is general enough to be applicable in a wide variety of other domains as well."
   ]
  },
  {
   "cell_type": "markdown",
   "metadata": {
    "slideshow": {
     "slide_type": "slide"
    }
   },
   "source": [
    "### tensorflow & tensorflow/python & TensorFlow.jl | wc\n",
    "\n",
    "<br />\n",
    "\n",
    "```sh\n",
    "~/work/tensorFlow $ git shortlog --numbered --summary | wc\n",
    "     457    1299    9199\n",
    "```\n",
    "\n",
    "```sh\n",
    "~/work/tensorFlow/tensorflow/python $ git shortlog --numbered --summary . | wc\n",
    "     173     506    3529\n",
    "```\n",
    "\n",
    "```sh\n",
    "~/.julia/v0.5/TensorFlow $ git shortlog --numbered --summary | wc\n",
    "       5      14      96\n",
    "```"
   ]
  },
  {
   "cell_type": "markdown",
   "metadata": {
    "slideshow": {
     "slide_type": "slide"
    }
   },
   "source": [
    "# Julia 커뮤니티\n",
    " - 깃헙, 메일링 리스트\n",
    " - JuliaCon\n",
    " - Julia in the classroom"
   ]
  },
  {
   "cell_type": "markdown",
   "metadata": {
    "slideshow": {
     "slide_type": "slide"
    }
   },
   "source": [
    "# Julia 커뮤니티 - Github\n",
    "\n",
    "<br />\n",
    "https://github.com/JuliaLang/julia"
   ]
  },
  {
   "cell_type": "markdown",
   "metadata": {
    "slideshow": {
     "slide_type": "slide"
    }
   },
   "source": [
    "# Julia 커뮤니티\n",
    "\n",
    "* Mailing lists http://julialang.org/community/\n",
    "* Gitter https://gitter.im/JuliaLang/julia\n",
    "* IRC http://webchat.freenode.net/?channels=julia"
   ]
  },
  {
   "cell_type": "markdown",
   "metadata": {
    "slideshow": {
     "slide_type": "slide"
    }
   },
   "source": [
    "# JuliaCon\n",
    "   줄리아 컨퍼런스\n",
    "   \n",
    "  * JuliaCon 2014\n",
    "  * JuliaCon 2015\n",
    "  * JuliaCon 2016"
   ]
  },
  {
   "cell_type": "markdown",
   "metadata": {
    "slideshow": {
     "slide_type": "slide"
    }
   },
   "source": [
    "# JuliaCon 2014 - 시카고 Gleacher Center\n",
    "   줄리아 컨퍼런스\n",
    "   \n",
    "  * JuliaCon 2014 - http://juliacon.org/2014/\n",
    "  \n",
    "  유투브 https://www.youtube.com/playlist?list=PLP8iPy9hna6TSRouJfvobfxkZFYiPSvPd"
   ]
  },
  {
   "cell_type": "markdown",
   "metadata": {
    "slideshow": {
     "slide_type": "slide"
    }
   },
   "source": [
    "# JuliaCon 2015 - MIT\n",
    "   줄리아 컨퍼런스\n",
    "   \n",
    "  * JuliaCon 2015 - http://juliacon.org/2015/\n",
    "  \n",
    "    유투브\n",
    "    https://www.youtube.com/playlist?list=PLP8iPy9hna6Sdx4soiGrSefrmOPdUWixM"
   ]
  },
  {
   "cell_type": "markdown",
   "metadata": {
    "slideshow": {
     "slide_type": "slide"
    }
   },
   "source": [
    "# JuliaCon 2016 - MIT\n",
    "   줄리아 컨퍼런스\n",
    "   \n",
    "  * JuliaCon 2016 - http://juliacon.org/\n",
    "  \n",
    "    유투브\n",
    "    https://www.youtube.com/playlist?list=PLP8iPy9hna6SQPwZUDtAM59-wPzCPyD_S\n",
    "    "
   ]
  },
  {
   "cell_type": "markdown",
   "metadata": {
    "slideshow": {
     "slide_type": "slide"
    }
   },
   "source": [
    "# Julia in the classroom\n",
    " \n",
    " * 줄리아를 강의에 사용하는 대학\n",
    " \n",
    " https://drive.google.com/open?id=1w6BwQzf87CxKyEGjRD32lW93174&usp=sharing"
   ]
  },
  {
   "cell_type": "markdown",
   "metadata": {
    "slideshow": {
     "slide_type": "slide"
    }
   },
   "source": [
    "<img src=\"./images/teaching/map.png\" alt=\"Julia in the classroom\"/>"
   ]
  },
  {
   "cell_type": "markdown",
   "metadata": {
    "slideshow": {
     "slide_type": "slide"
    }
   },
   "source": [
    "# Julia for Data Science 책 두권\n",
    "\n",
    "<img src=\"./images/books/ZachariasVoulgaris.jpg\" alt=\"Zacharias Voulgaris\"/ width=\"310\" />\n",
    "\n",
    "<img src=\"./images/books/AnshulJoshi.jpg\" alt=\"Anshul Joshi\" width=\"310\" />\n",
    "\n",
    "http://julialang.org/learning/#books"
   ]
  },
  {
   "cell_type": "markdown",
   "metadata": {
    "slideshow": {
     "slide_type": "slide"
    }
   },
   "source": [
    "# 머시기 Korea 페이스북 커뮤니티\n",
    "\n",
    "* Python Korea\n",
    "\n",
    "* TensorFlow KR\n",
    "\n",
    "* R Korea"
   ]
  },
  {
   "cell_type": "markdown",
   "metadata": {
    "slideshow": {
     "slide_type": "slide"
    }
   },
   "source": [
    "### Python Korea 멤버 12,961명\n",
    "- https://www.facebook.com/groups/pythonkorea/\n",
    "\n",
    "<br />\n",
    "\n",
    "###  TensorFlow KR 멤버 5,074명\n",
    "-  https://www.facebook.com/groups/TensorFlowKR/\n",
    "\n",
    "<br />\n",
    "\n",
    "###  R Korea 멤버 2,975명\n",
    "- https://www.facebook.com/groups/KoreaRUsers/"
   ]
  },
  {
   "cell_type": "markdown",
   "metadata": {
    "slideshow": {
     "slide_type": "slide"
    }
   },
   "source": [
    "<img src=\"./images/juliakorea/juliakoreafb_801x250.jpg\" alt=\"Julia Korea\"/>\n",
    "\n",
    "<br />\n",
    "###  Julia Korea 멤버 234명\n",
    " - https://www.facebook.com/groups/juliakorea/"
   ]
  },
  {
   "cell_type": "markdown",
   "metadata": {
    "slideshow": {
     "slide_type": "slide"
    }
   },
   "source": [
    "# Julia Korea 커뮤니티 - 슬랙\n",
    "\n",
    "<br />\n",
    "\n",
    "juliakorea 슬랙 가입하기 <br/>\n",
    "http://juliakorea-slack.herokuapp.com/"
   ]
  },
  {
   "cell_type": "markdown",
   "metadata": {
    "slideshow": {
     "slide_type": "slide"
    }
   },
   "source": [
    "# Julia Korea 커뮤니티 - Github\n",
    "\n",
    "https://github.com/juliakorea\n",
    "\n",
    "https://github.com/juliakorea/doc"
   ]
  },
  {
   "cell_type": "markdown",
   "metadata": {
    "slideshow": {
     "slide_type": "slide"
    }
   },
   "source": [
    "### 줄리아 문서 번역 프로젝트\n",
    "\n",
    "https://github.com/juliakorea/doc\n",
    "\n",
    "\n",
    "<br />\n",
    "<br />\n",
    "\n",
    "### 줄리아 매뉴얼 (일부 번역)\n",
    "http://juliakorea.github.io/latest/"
   ]
  },
  {
   "cell_type": "markdown",
   "metadata": {
    "slideshow": {
     "slide_type": "slide"
    }
   },
   "source": [
    "# 개발 툴\n",
    "\n",
    " - REPL\n",
    " - Jupyter notebook\n",
    " - Juno\n"
   ]
  },
  {
   "cell_type": "markdown",
   "metadata": {
    "collapsed": true,
    "slideshow": {
     "slide_type": "slide"
    }
   },
   "source": [
    "# 건 乾 ☰\n",
    "# 리 離 ☲\n",
    "# 감 坎 ☵\n",
    "# 곤 坤 ☷"
   ]
  },
  {
   "cell_type": "markdown",
   "metadata": {
    "slideshow": {
     "slide_type": "slide"
    }
   },
   "source": [
    "<img src=\"./images/my/3456.png\" alt=\"乾離坎坤\"/>"
   ]
  },
  {
   "cell_type": "markdown",
   "metadata": {
    "slideshow": {
     "slide_type": "slide"
    }
   },
   "source": [
    "# Jupyter notebook\n",
    "\n",
    "* Project Jupyter http://jupyter.org/"
   ]
  },
  {
   "cell_type": "markdown",
   "metadata": {
    "slideshow": {
     "slide_type": "slide"
    }
   },
   "source": [
    "### Juno IDE - 맥\n",
    "\n",
    "<img src=\"./images/my/juno_mac.png\" alt=\"Juno IDE\"/>"
   ]
  },
  {
   "cell_type": "markdown",
   "metadata": {
    "slideshow": {
     "slide_type": "slide"
    }
   },
   "source": [
    "### Juno IDE - 윈도우\n",
    "\n",
    "<img src=\"./images/my/juno_windows.png\" alt=\"Juno IDE\"/>"
   ]
  },
  {
   "cell_type": "code",
   "execution_count": 5,
   "metadata": {
    "collapsed": true,
    "slideshow": {
     "slide_type": "slide"
    }
   },
   "outputs": [],
   "source": [
    "# 코딩 시간"
   ]
  },
  {
   "cell_type": "markdown",
   "metadata": {
    "slideshow": {
     "slide_type": "slide"
    }
   },
   "source": [
    "# Julia | wc\n",
    "\n",
    "<br />\n",
    "\n",
    "```sh\n",
    "~/work/julia $ git shortlog --numbered --summary | wc\n",
    "     620    1794   12599\n",
    "```\n",
    "\n",
    "<br /><br /><br /><br /><br />"
   ]
  },
  {
   "cell_type": "markdown",
   "metadata": {
    "slideshow": {
     "slide_type": "slide"
    }
   },
   "source": [
    "\n",
    "Julia v0.5.0 Release Notes\n",
    "=========================="
   ]
  },
  {
   "cell_type": "markdown",
   "metadata": {
    "slideshow": {
     "slide_type": "slide"
    }
   },
   "source": [
    "New language features\n",
    "---------------------\n",
    "\n",
    "  * Generator expressions: `f(i) for i in 1:n` ([#4470]). This returns an iterator\n",
    "    that computes the specified values on demand. This is useful for computing, e.g.\n",
    "    `sum(f(i) for i in 1:n)` without creating an intermediate array of values.\n",
    "\n",
    "  * Generators and comprehensions support filtering using `if` ([#550]) and nested\n",
    "    iteration using multiple `for` keywords ([#4867]).\n",
    "\n",
    "  * Fused broadcasting syntax: ``f.(args...)`` is equivalent to ``broadcast(f, args...)`` ([#15032]),\n",
    "    and nested `f.(g.(args...))` calls are fused into a single `broadcast` loop ([#17300]).\n",
    "    Similarly, the syntax `x .= ...` is equivalent to a `broadcast!(identity, x, ...)`\n",
    "    call and fuses with nested \"dot\" calls; also, `x .+= y` and similar is now\n",
    "    equivalent to `x .= x .+ y`, rather than `x = x .+ y` ([#17510]).\n",
    "\n",
    "  * Macro expander functions are now generic, so macros can have multiple definitions\n",
    "    (e.g. for different numbers of arguments, or optional arguments) ([#8846], [#9627]).\n",
    "    However note that the argument types refer to the syntax tree representation, and not\n",
    "    to the types of run time values.\n",
    "\n",
    "  * Varargs functions like `foo{T}(x::T...)` may now restrict the number\n",
    "    of such arguments using `foo{T,N}(x::Vararg{T,N})` ([#11242]).\n",
    "\n",
    "  * `x ∈ X` is now a synonym for `x in X` in `for` loops and comprehensions,\n",
    "    as it already was in comparisons ([#13824]).\n",
    "\n",
    "  * The `PROGRAM_FILE` global is now available for determining the name of the running script ([#14114]).\n",
    "\n",
    "  * The syntax `x.:sym` (e.g. `Base.:+`) is now supported, while using `x.(:sym)`\n",
    "    or `x.(i)` for field access are deprecated in favor of `getfield` ([#15032]).\n",
    "\n",
    "  * Function return type syntax `function f()::T` has been added ([#1090]). Values returned\n",
    "    from a function with such a declaration will be converted to the specified type `T`.\n",
    "\n",
    "  * Many more operators now support `.` prefixes (e.g. `.≤`) ([#17393]).  However,\n",
    "    users are discouraged from overloading these, since they are mainly parsed\n",
    "    in order to implement backwards compatibility with planned automatic\n",
    "    broadcasting of dot operators in Julia 0.6 ([#16285]).  Explicitly qualified\n",
    "    operator names like `Base.≤` should now use `Base.:≤` (prefixed by `@compat`\n",
    "    if you need 0.4 compatibility via the `Compat` package).\n",
    "\n",
    "  * User-extensible bounds check elimination is now possible with the new\n",
    "    `@boundscheck` macro ([#14474]). This macro marks bounds checking code blocks,\n",
    "    which the compiler may remove when encountered inside an `@inbounds` call."
   ]
  },
  {
   "cell_type": "markdown",
   "metadata": {
    "slideshow": {
     "slide_type": "slide"
    }
   },
   "source": [
    "# Julia 0.6\n",
    "\n",
    "* prompt pasting\n",
    "\n",
    "https://github.com/JuliaLang/julia/milestone/20"
   ]
  },
  {
   "cell_type": "markdown",
   "metadata": {
    "slideshow": {
     "slide_type": "slide"
    }
   },
   "source": [
    "# Julia 1.0\n",
    "\n",
    "* 2017년\n",
    "\n",
    "https://github.com/JuliaLang/julia/milestone/4"
   ]
  },
  {
   "cell_type": "markdown",
   "metadata": {
    "slideshow": {
     "slide_type": "slide"
    }
   },
   "source": [
    "# Julia 2.0\n",
    "\n",
    "https://github.com/JuliaLang/julia/milestone/23"
   ]
  },
  {
   "cell_type": "markdown",
   "metadata": {
    "collapsed": true,
    "slideshow": {
     "slide_type": "slide"
    }
   },
   "source": [
    "# References\n",
    " * Julia http://julialang.org/\n",
    " * JuliaCon http://juliacon.org/\n",
    " * Packages\n",
    "   - DataFrames.jl https://github.com/JuliaStats/DataFrames.jl\n",
    "   - TensorFlow.jl https://github.com/malmaud/TensorFlow.jl\n",
    " * Project Jupyter http://jupyter.org/\n",
    " * Juno http://junolab.org/\n",
    " * John Myles White http://www.johnmyleswhite.com/\n",
    " * TensorFlow https://www.tensorflow.org/"
   ]
  },
  {
   "cell_type": "markdown",
   "metadata": {
    "slideshow": {
     "slide_type": "slide"
    }
   },
   "source": [
    "# ㄲ\n",
    "\n",
    "ㄱㅅㅎㄴㄷ\n",
    "\n",
    "ㄱㅁㅅㄴㄷ\n",
    "\n",
    "ㄸㅋㅂㄹㅁㅊ"
   ]
  }
 ],
 "metadata": {
  "celltoolbar": "Slideshow",
  "kernelspec": {
   "display_name": "Julia 0.6.0-dev",
   "language": "julia",
   "name": "julia-0.6"
  },
  "language_info": {
   "file_extension": ".jl",
   "mimetype": "application/julia",
   "name": "julia",
   "version": "0.6.0"
  },
  "livereveal": {
   "height": 1100,
   "theme": "serif",
   "transition": "none",
   "width": 1280
  },
  "widgets": {
   "state": {},
   "version": "1.1.2"
  }
 },
 "nbformat": 4,
 "nbformat_minor": 0
}
