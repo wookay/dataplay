{
 "cells": [
  {
   "cell_type": "markdown",
   "metadata": {},
   "source": [
    "* Jupyter 테마 바꾸기\n",
    " - https://github.com/dunovank/jupyter-themes\n",
    "```sh\n",
    "$ pip install jupyterthemes\n",
    "$ jt -t grade3\n",
    "```\n",
    "\n",
    "* CSS 수정 버전: https://github.com/wookay/dotfiles/blob/master/.jupyter/custom/custom.css"
   ]
  },
  {
   "cell_type": "markdown",
   "metadata": {},
   "source": [
    " * DataFrames.jl 예제 \n",
    "   - http://juliastats.github.io/DataFrames.jl/split_apply_combine/"
   ]
  },
  {
   "cell_type": "code",
   "execution_count": null,
   "metadata": {
    "collapsed": false
   },
   "outputs": [],
   "source": [
    "# Pkg.add(\"RDatasets\")"
   ]
  },
  {
   "cell_type": "code",
   "execution_count": null,
   "metadata": {
    "collapsed": true
   },
   "outputs": [],
   "source": [
    "using RDatasets\n",
    "\n",
    "iris = dataset(\"datasets\", \"iris\")"
   ]
  },
  {
   "cell_type": "code",
   "execution_count": null,
   "metadata": {
    "collapsed": true
   },
   "outputs": [],
   "source": [
    "# Pkg.add(\"DataFrames\")"
   ]
  },
  {
   "cell_type": "code",
   "execution_count": 5,
   "metadata": {
    "collapsed": true
   },
   "outputs": [],
   "source": [
    "using DataFrames"
   ]
  },
  {
   "cell_type": "code",
   "execution_count": 7,
   "metadata": {
    "collapsed": false
   },
   "outputs": [
    {
     "data": {
      "text/html": [
       "<table class=\"data-frame\"><tr><th></th><th>Species</th><th>x1</th></tr><tr><th>1</th><td>setosa</td><td>(50,5)</td></tr><tr><th>2</th><td>versicolor</td><td>(50,5)</td></tr><tr><th>3</th><td>virginica</td><td>(50,5)</td></tr></table>"
      ],
      "text/plain": [
       "3×2 DataFrames.DataFrame\n",
       "│ Row │ Species      │ x1     │\n",
       "├─────┼──────────────┼────────┤\n",
       "│ 1   │ setosa     │ (50,5) │\n",
       "│ 2   │ versicolor │ (50,5) │\n",
       "│ 3   │ virginica  │ (50,5) │"
      ]
     },
     "execution_count": 7,
     "metadata": {},
     "output_type": "execute_result"
    }
   ],
   "source": [
    "by(iris, :Species, size)"
   ]
  },
  {
   "cell_type": "code",
   "execution_count": 8,
   "metadata": {
    "collapsed": false
   },
   "outputs": [
    {
     "data": {
      "text/html": [
       "<table class=\"data-frame\"><tr><th></th><th>Species</th><th>x1</th></tr><tr><th>1</th><td>setosa</td><td>1.462</td></tr><tr><th>2</th><td>versicolor</td><td>4.26</td></tr><tr><th>3</th><td>virginica</td><td>5.552</td></tr></table>"
      ],
      "text/plain": [
       "3×2 DataFrames.DataFrame\n",
       "│ Row │ Species      │ x1    │\n",
       "├─────┼──────────────┼───────┤\n",
       "│ 1   │ setosa     │ 1.462 │\n",
       "│ 2   │ versicolor │ 4.26  │\n",
       "│ 3   │ virginica  │ 5.552 │"
      ]
     },
     "execution_count": 8,
     "metadata": {},
     "output_type": "execute_result"
    }
   ],
   "source": [
    "by(iris, :Species, df -> mean(df[:PetalLength]))"
   ]
  },
  {
   "cell_type": "code",
   "execution_count": 9,
   "metadata": {
    "collapsed": false
   },
   "outputs": [
    {
     "data": {
      "text/html": [
       "<table class=\"data-frame\"><tr><th></th><th>Species</th><th>N</th></tr><tr><th>1</th><td>setosa</td><td>50</td></tr><tr><th>2</th><td>versicolor</td><td>50</td></tr><tr><th>3</th><td>virginica</td><td>50</td></tr></table>"
      ],
      "text/plain": [
       "3×2 DataFrames.DataFrame\n",
       "│ Row │ Species      │ N  │\n",
       "├─────┼──────────────┼────┤\n",
       "│ 1   │ setosa     │ 50 │\n",
       "│ 2   │ versicolor │ 50 │\n",
       "│ 3   │ virginica  │ 50 │"
      ]
     },
     "execution_count": 9,
     "metadata": {},
     "output_type": "execute_result"
    }
   ],
   "source": [
    "by(iris, :Species, df -> DataFrame(N = size(df, 1)))"
   ]
  },
  {
   "cell_type": "code",
   "execution_count": 10,
   "metadata": {
    "collapsed": false
   },
   "outputs": [
    {
     "data": {
      "text/html": [
       "<table class=\"data-frame\"><tr><th></th><th>Species</th><th>m</th><th>s²</th></tr><tr><th>1</th><td>setosa</td><td>1.462</td><td>0.0301592</td></tr><tr><th>2</th><td>versicolor</td><td>4.26</td><td>0.220816</td></tr><tr><th>3</th><td>virginica</td><td>5.552</td><td>0.304588</td></tr></table>"
      ],
      "text/plain": [
       "3×3 DataFrames.DataFrame\n",
       "│ Row │ Species      │ m     │ s²        │\n",
       "├─────┼──────────────┼───────┼───────────┤\n",
       "│ 1   │ setosa     │ 1.462 │ 0.0301592 │\n",
       "│ 2   │ versicolor │ 4.26  │ 0.220816  │\n",
       "│ 3   │ virginica  │ 5.552 │ 0.304588  │"
      ]
     },
     "execution_count": 10,
     "metadata": {},
     "output_type": "execute_result"
    }
   ],
   "source": [
    "by(iris, :Species) do df\n",
    "    DataFrame(m = mean(df[:PetalLength]), s² = var(df[:PetalLength]))\n",
    "end"
   ]
  },
  {
   "cell_type": "code",
   "execution_count": 11,
   "metadata": {
    "collapsed": false
   },
   "outputs": [
    {
     "data": {
      "text/html": [
       "<table class=\"data-frame\"><tr><th></th><th>Species</th><th>SepalLength_sum</th><th>SepalWidth_sum</th><th>PetalLength_sum</th><th>PetalWidth_sum</th></tr><tr><th>1</th><td>setosa</td><td>250.3</td><td>171.4</td><td>73.1</td><td>12.3</td></tr><tr><th>2</th><td>versicolor</td><td>296.8</td><td>138.5</td><td>213.0</td><td>66.3</td></tr><tr><th>3</th><td>virginica</td><td>329.4</td><td>148.7</td><td>277.6</td><td>101.3</td></tr></table>"
      ],
      "text/plain": [
       "3×5 DataFrames.DataFrame\n",
       "│ Row │ Species      │ SepalLength_sum │ SepalWidth_sum │ PetalLength_sum │\n",
       "├─────┼──────────────┼─────────────────┼────────────────┼─────────────────┤\n",
       "│ 1   │ setosa     │ 250.3           │ 171.4          │ 73.1            │\n",
       "│ 2   │ versicolor │ 296.8           │ 138.5          │ 213.0           │\n",
       "│ 3   │ virginica  │ 329.4           │ 148.7          │ 277.6           │\n",
       "\n",
       "│ Row │ PetalWidth_sum │\n",
       "├─────┼────────────────┤\n",
       "│ 1   │ 12.3           │\n",
       "│ 2   │ 66.3           │\n",
       "│ 3   │ 101.3          │"
      ]
     },
     "execution_count": 11,
     "metadata": {},
     "output_type": "execute_result"
    }
   ],
   "source": [
    "aggregate(iris, :Species, sum)"
   ]
  },
  {
   "cell_type": "code",
   "execution_count": 12,
   "metadata": {
    "collapsed": false
   },
   "outputs": [
    {
     "data": {
      "text/html": [
       "<table class=\"data-frame\"><tr><th></th><th>Species</th><th>SepalLength_sum</th><th>SepalLength_mean</th><th>SepalWidth_sum</th><th>SepalWidth_mean</th><th>PetalLength_sum</th><th>PetalLength_mean</th><th>PetalWidth_sum</th><th>PetalWidth_mean</th></tr><tr><th>1</th><td>setosa</td><td>250.3</td><td>5.006</td><td>171.4</td><td>3.428</td><td>73.1</td><td>1.462</td><td>12.3</td><td>0.246</td></tr><tr><th>2</th><td>versicolor</td><td>296.8</td><td>5.936</td><td>138.5</td><td>2.77</td><td>213.0</td><td>4.26</td><td>66.3</td><td>1.326</td></tr><tr><th>3</th><td>virginica</td><td>329.4</td><td>6.588</td><td>148.7</td><td>2.974</td><td>277.6</td><td>5.552</td><td>101.3</td><td>2.026</td></tr></table>"
      ],
      "text/plain": [
       "3×9 DataFrames.DataFrame\n",
       "│ Row │ Species      │ SepalLength_sum │ SepalLength_mean │ SepalWidth_sum │\n",
       "├─────┼──────────────┼─────────────────┼──────────────────┼────────────────┤\n",
       "│ 1   │ setosa     │ 250.3           │ 5.006            │ 171.4          │\n",
       "│ 2   │ versicolor │ 296.8           │ 5.936            │ 138.5          │\n",
       "│ 3   │ virginica  │ 329.4           │ 6.588            │ 148.7          │\n",
       "\n",
       "│ Row │ SepalWidth_mean │ PetalLength_sum │ PetalLength_mean │ PetalWidth_sum │\n",
       "├─────┼─────────────────┼─────────────────┼──────────────────┼────────────────┤\n",
       "│ 1   │ 3.428           │ 73.1            │ 1.462            │ 12.3           │\n",
       "│ 2   │ 2.77            │ 213.0           │ 4.26             │ 66.3           │\n",
       "│ 3   │ 2.974           │ 277.6           │ 5.552            │ 101.3          │\n",
       "\n",
       "│ Row │ PetalWidth_mean │\n",
       "├─────┼─────────────────┤\n",
       "│ 1   │ 0.246           │\n",
       "│ 2   │ 1.326           │\n",
       "│ 3   │ 2.026           │"
      ]
     },
     "execution_count": 12,
     "metadata": {},
     "output_type": "execute_result"
    }
   ],
   "source": [
    "aggregate(iris, :Species, [sum, mean])"
   ]
  },
  {
   "cell_type": "code",
   "execution_count": 13,
   "metadata": {
    "collapsed": false
   },
   "outputs": [
    {
     "name": "stdout",
     "output_type": "stream",
     "text": [
      "50\n",
      "50\n",
      "50\n"
     ]
    }
   ],
   "source": [
    "for subdf in groupby(iris, :Species)\n",
    "    println(size(subdf, 1))\n",
    "end"
   ]
  }
 ],
 "metadata": {
  "kernelspec": {
   "display_name": "Julia 0.5.0",
   "language": "julia",
   "name": "julia-0.5"
  },
  "language_info": {
   "file_extension": ".jl",
   "mimetype": "application/julia",
   "name": "julia",
   "version": "0.5.0"
  }
 },
 "nbformat": 4,
 "nbformat_minor": 1
}
