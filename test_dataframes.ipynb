{
 "cells": [
  {
   "cell_type": "markdown",
   "metadata": {},
   "source": [
    "* Jupyter 테마 바꾸기\n",
    " - https://github.com/dunovank/jupyter-themes\n",
    "```sh\n",
    "$ pip install jupyterthemes\n",
    "$ jt -t grade3\n",
    "```\n",
    "\n",
    "* CSS 수정 버전: https://github.com/wookay/dotfiles/blob/master/.jupyter/custom/custom.css"
   ]
  },
  {
   "cell_type": "markdown",
   "metadata": {},
   "source": [
    " * DataFrames.jl 예제 \n",
    "   - http://juliastats.github.io/DataFrames.jl/split_apply_combine/"
   ]
  },
  {
   "cell_type": "code",
   "execution_count": null,
   "metadata": {
    "collapsed": false
   },
   "outputs": [],
   "source": [
    "# Pkg.add(\"RDatasets\")"
   ]
  },
  {
   "cell_type": "code",
   "execution_count": 1,
   "metadata": {
    "collapsed": false
   },
   "outputs": [
    {
     "data": {
      "text/html": [
       "<table class=\"data-frame\"><tr><th></th><th>SepalLength</th><th>SepalWidth</th><th>PetalLength</th><th>PetalWidth</th><th>Species</th></tr><tr><th>1</th><td>5.1</td><td>3.5</td><td>1.4</td><td>0.2</td><td>setosa</td></tr><tr><th>2</th><td>4.9</td><td>3.0</td><td>1.4</td><td>0.2</td><td>setosa</td></tr><tr><th>3</th><td>4.7</td><td>3.2</td><td>1.3</td><td>0.2</td><td>setosa</td></tr><tr><th>4</th><td>4.6</td><td>3.1</td><td>1.5</td><td>0.2</td><td>setosa</td></tr><tr><th>5</th><td>5.0</td><td>3.6</td><td>1.4</td><td>0.2</td><td>setosa</td></tr><tr><th>6</th><td>5.4</td><td>3.9</td><td>1.7</td><td>0.4</td><td>setosa</td></tr><tr><th>7</th><td>4.6</td><td>3.4</td><td>1.4</td><td>0.3</td><td>setosa</td></tr><tr><th>8</th><td>5.0</td><td>3.4</td><td>1.5</td><td>0.2</td><td>setosa</td></tr><tr><th>9</th><td>4.4</td><td>2.9</td><td>1.4</td><td>0.2</td><td>setosa</td></tr><tr><th>10</th><td>4.9</td><td>3.1</td><td>1.5</td><td>0.1</td><td>setosa</td></tr><tr><th>11</th><td>5.4</td><td>3.7</td><td>1.5</td><td>0.2</td><td>setosa</td></tr><tr><th>12</th><td>4.8</td><td>3.4</td><td>1.6</td><td>0.2</td><td>setosa</td></tr><tr><th>13</th><td>4.8</td><td>3.0</td><td>1.4</td><td>0.1</td><td>setosa</td></tr><tr><th>14</th><td>4.3</td><td>3.0</td><td>1.1</td><td>0.1</td><td>setosa</td></tr><tr><th>15</th><td>5.8</td><td>4.0</td><td>1.2</td><td>0.2</td><td>setosa</td></tr><tr><th>16</th><td>5.7</td><td>4.4</td><td>1.5</td><td>0.4</td><td>setosa</td></tr><tr><th>17</th><td>5.4</td><td>3.9</td><td>1.3</td><td>0.4</td><td>setosa</td></tr><tr><th>18</th><td>5.1</td><td>3.5</td><td>1.4</td><td>0.3</td><td>setosa</td></tr><tr><th>19</th><td>5.7</td><td>3.8</td><td>1.7</td><td>0.3</td><td>setosa</td></tr><tr><th>20</th><td>5.1</td><td>3.8</td><td>1.5</td><td>0.3</td><td>setosa</td></tr><tr><th>21</th><td>5.4</td><td>3.4</td><td>1.7</td><td>0.2</td><td>setosa</td></tr><tr><th>22</th><td>5.1</td><td>3.7</td><td>1.5</td><td>0.4</td><td>setosa</td></tr><tr><th>23</th><td>4.6</td><td>3.6</td><td>1.0</td><td>0.2</td><td>setosa</td></tr><tr><th>24</th><td>5.1</td><td>3.3</td><td>1.7</td><td>0.5</td><td>setosa</td></tr><tr><th>25</th><td>4.8</td><td>3.4</td><td>1.9</td><td>0.2</td><td>setosa</td></tr><tr><th>26</th><td>5.0</td><td>3.0</td><td>1.6</td><td>0.2</td><td>setosa</td></tr><tr><th>27</th><td>5.0</td><td>3.4</td><td>1.6</td><td>0.4</td><td>setosa</td></tr><tr><th>28</th><td>5.2</td><td>3.5</td><td>1.5</td><td>0.2</td><td>setosa</td></tr><tr><th>29</th><td>5.2</td><td>3.4</td><td>1.4</td><td>0.2</td><td>setosa</td></tr><tr><th>30</th><td>4.7</td><td>3.2</td><td>1.6</td><td>0.2</td><td>setosa</td></tr><tr><th>&vellip;</th><td>&vellip;</td><td>&vellip;</td><td>&vellip;</td><td>&vellip;</td><td>&vellip;</td></tr></table>"
      ],
      "text/plain": [
       "150×5 DataFrames.DataFrame\n",
       "│ Row │ SepalLength │ SepalWidth │ PetalLength │ PetalWidth │ Species     │\n",
       "├─────┼─────────────┼────────────┼─────────────┼────────────┼─────────────┤\n",
       "│ 1   │ 5.1         │ 3.5        │ 1.4         │ 0.2        │ setosa    │\n",
       "│ 2   │ 4.9         │ 3.0        │ 1.4         │ 0.2        │ setosa    │\n",
       "│ 3   │ 4.7         │ 3.2        │ 1.3         │ 0.2        │ setosa    │\n",
       "│ 4   │ 4.6         │ 3.1        │ 1.5         │ 0.2        │ setosa    │\n",
       "│ 5   │ 5.0         │ 3.6        │ 1.4         │ 0.2        │ setosa    │\n",
       "│ 6   │ 5.4         │ 3.9        │ 1.7         │ 0.4        │ setosa    │\n",
       "│ 7   │ 4.6         │ 3.4        │ 1.4         │ 0.3        │ setosa    │\n",
       "│ 8   │ 5.0         │ 3.4        │ 1.5         │ 0.2        │ setosa    │\n",
       "│ 9   │ 4.4         │ 2.9        │ 1.4         │ 0.2        │ setosa    │\n",
       "│ 10  │ 4.9         │ 3.1        │ 1.5         │ 0.1        │ setosa    │\n",
       "│ 11  │ 5.4         │ 3.7        │ 1.5         │ 0.2        │ setosa    │\n",
       "⋮\n",
       "│ 139 │ 6.0         │ 3.0        │ 4.8         │ 1.8        │ virginica │\n",
       "│ 140 │ 6.9         │ 3.1        │ 5.4         │ 2.1        │ virginica │\n",
       "│ 141 │ 6.7         │ 3.1        │ 5.6         │ 2.4        │ virginica │\n",
       "│ 142 │ 6.9         │ 3.1        │ 5.1         │ 2.3        │ virginica │\n",
       "│ 143 │ 5.8         │ 2.7        │ 5.1         │ 1.9        │ virginica │\n",
       "│ 144 │ 6.8         │ 3.2        │ 5.9         │ 2.3        │ virginica │\n",
       "│ 145 │ 6.7         │ 3.3        │ 5.7         │ 2.5        │ virginica │\n",
       "│ 146 │ 6.7         │ 3.0        │ 5.2         │ 2.3        │ virginica │\n",
       "│ 147 │ 6.3         │ 2.5        │ 5.0         │ 1.9        │ virginica │\n",
       "│ 148 │ 6.5         │ 3.0        │ 5.2         │ 2.0        │ virginica │\n",
       "│ 149 │ 6.2         │ 3.4        │ 5.4         │ 2.3        │ virginica │\n",
       "│ 150 │ 5.9         │ 3.0        │ 5.1         │ 1.8        │ virginica │"
      ]
     },
     "execution_count": 1,
     "metadata": {},
     "output_type": "execute_result"
    }
   ],
   "source": [
    "using RDatasets\n",
    "\n",
    "iris = dataset(\"datasets\", \"iris\")"
   ]
  },
  {
   "cell_type": "code",
   "execution_count": null,
   "metadata": {
    "collapsed": true
   },
   "outputs": [],
   "source": [
    "# Pkg.add(\"DataFrames\")"
   ]
  },
  {
   "cell_type": "code",
   "execution_count": 2,
   "metadata": {
    "collapsed": true
   },
   "outputs": [],
   "source": [
    "using DataFrames"
   ]
  },
  {
   "cell_type": "code",
   "execution_count": 3,
   "metadata": {
    "collapsed": false
   },
   "outputs": [
    {
     "data": {
      "text/html": [
       "<table class=\"data-frame\"><tr><th></th><th>Species</th><th>x1</th></tr><tr><th>1</th><td>setosa</td><td>(50,5)</td></tr><tr><th>2</th><td>versicolor</td><td>(50,5)</td></tr><tr><th>3</th><td>virginica</td><td>(50,5)</td></tr></table>"
      ],
      "text/plain": [
       "3×2 DataFrames.DataFrame\n",
       "│ Row │ Species      │ x1     │\n",
       "├─────┼──────────────┼────────┤\n",
       "│ 1   │ setosa     │ (50,5) │\n",
       "│ 2   │ versicolor │ (50,5) │\n",
       "│ 3   │ virginica  │ (50,5) │"
      ]
     },
     "execution_count": 3,
     "metadata": {},
     "output_type": "execute_result"
    }
   ],
   "source": [
    "by(iris, :Species, size)"
   ]
  },
  {
   "cell_type": "code",
   "execution_count": 4,
   "metadata": {
    "collapsed": false
   },
   "outputs": [
    {
     "data": {
      "text/html": [
       "<table class=\"data-frame\"><tr><th></th><th>Species</th><th>x1</th></tr><tr><th>1</th><td>setosa</td><td>1.462</td></tr><tr><th>2</th><td>versicolor</td><td>4.26</td></tr><tr><th>3</th><td>virginica</td><td>5.552</td></tr></table>"
      ],
      "text/plain": [
       "3×2 DataFrames.DataFrame\n",
       "│ Row │ Species      │ x1    │\n",
       "├─────┼──────────────┼───────┤\n",
       "│ 1   │ setosa     │ 1.462 │\n",
       "│ 2   │ versicolor │ 4.26  │\n",
       "│ 3   │ virginica  │ 5.552 │"
      ]
     },
     "execution_count": 4,
     "metadata": {},
     "output_type": "execute_result"
    }
   ],
   "source": [
    "by(iris, :Species, df -> mean(df[:PetalLength]))"
   ]
  },
  {
   "cell_type": "code",
   "execution_count": 5,
   "metadata": {
    "collapsed": false
   },
   "outputs": [
    {
     "data": {
      "text/html": [
       "<table class=\"data-frame\"><tr><th></th><th>Species</th><th>N</th></tr><tr><th>1</th><td>setosa</td><td>50</td></tr><tr><th>2</th><td>versicolor</td><td>50</td></tr><tr><th>3</th><td>virginica</td><td>50</td></tr></table>"
      ],
      "text/plain": [
       "3×2 DataFrames.DataFrame\n",
       "│ Row │ Species      │ N  │\n",
       "├─────┼──────────────┼────┤\n",
       "│ 1   │ setosa     │ 50 │\n",
       "│ 2   │ versicolor │ 50 │\n",
       "│ 3   │ virginica  │ 50 │"
      ]
     },
     "execution_count": 5,
     "metadata": {},
     "output_type": "execute_result"
    }
   ],
   "source": [
    "by(iris, :Species, df -> DataFrame(N = size(df, 1)))"
   ]
  },
  {
   "cell_type": "code",
   "execution_count": 6,
   "metadata": {
    "collapsed": false
   },
   "outputs": [
    {
     "data": {
      "text/html": [
       "<table class=\"data-frame\"><tr><th></th><th>Species</th><th>m</th><th>s²</th></tr><tr><th>1</th><td>setosa</td><td>1.462</td><td>0.0301592</td></tr><tr><th>2</th><td>versicolor</td><td>4.26</td><td>0.220816</td></tr><tr><th>3</th><td>virginica</td><td>5.552</td><td>0.304588</td></tr></table>"
      ],
      "text/plain": [
       "3×3 DataFrames.DataFrame\n",
       "│ Row │ Species      │ m     │ s²        │\n",
       "├─────┼──────────────┼───────┼───────────┤\n",
       "│ 1   │ setosa     │ 1.462 │ 0.0301592 │\n",
       "│ 2   │ versicolor │ 4.26  │ 0.220816  │\n",
       "│ 3   │ virginica  │ 5.552 │ 0.304588  │"
      ]
     },
     "execution_count": 6,
     "metadata": {},
     "output_type": "execute_result"
    }
   ],
   "source": [
    "by(iris, :Species) do df\n",
    "    DataFrame(m = mean(df[:PetalLength]), s² = var(df[:PetalLength]))\n",
    "end"
   ]
  },
  {
   "cell_type": "code",
   "execution_count": 7,
   "metadata": {
    "collapsed": false
   },
   "outputs": [
    {
     "data": {
      "text/html": [
       "<table class=\"data-frame\"><tr><th></th><th>Species</th><th>SepalLength_sum</th><th>SepalWidth_sum</th><th>PetalLength_sum</th><th>PetalWidth_sum</th></tr><tr><th>1</th><td>setosa</td><td>250.3</td><td>171.4</td><td>73.1</td><td>12.3</td></tr><tr><th>2</th><td>versicolor</td><td>296.8</td><td>138.5</td><td>213.0</td><td>66.3</td></tr><tr><th>3</th><td>virginica</td><td>329.4</td><td>148.7</td><td>277.6</td><td>101.3</td></tr></table>"
      ],
      "text/plain": [
       "3×5 DataFrames.DataFrame\n",
       "│ Row │ Species      │ SepalLength_sum │ SepalWidth_sum │ PetalLength_sum │\n",
       "├─────┼──────────────┼─────────────────┼────────────────┼─────────────────┤\n",
       "│ 1   │ setosa     │ 250.3           │ 171.4          │ 73.1            │\n",
       "│ 2   │ versicolor │ 296.8           │ 138.5          │ 213.0           │\n",
       "│ 3   │ virginica  │ 329.4           │ 148.7          │ 277.6           │\n",
       "\n",
       "│ Row │ PetalWidth_sum │\n",
       "├─────┼────────────────┤\n",
       "│ 1   │ 12.3           │\n",
       "│ 2   │ 66.3           │\n",
       "│ 3   │ 101.3          │"
      ]
     },
     "execution_count": 7,
     "metadata": {},
     "output_type": "execute_result"
    }
   ],
   "source": [
    "aggregate(iris, :Species, sum)"
   ]
  },
  {
   "cell_type": "code",
   "execution_count": 8,
   "metadata": {
    "collapsed": false
   },
   "outputs": [
    {
     "data": {
      "text/html": [
       "<table class=\"data-frame\"><tr><th></th><th>Species</th><th>SepalLength_sum</th><th>SepalLength_mean</th><th>SepalWidth_sum</th><th>SepalWidth_mean</th><th>PetalLength_sum</th><th>PetalLength_mean</th><th>PetalWidth_sum</th><th>PetalWidth_mean</th></tr><tr><th>1</th><td>setosa</td><td>250.3</td><td>5.006</td><td>171.4</td><td>3.428</td><td>73.1</td><td>1.462</td><td>12.3</td><td>0.246</td></tr><tr><th>2</th><td>versicolor</td><td>296.8</td><td>5.936</td><td>138.5</td><td>2.77</td><td>213.0</td><td>4.26</td><td>66.3</td><td>1.326</td></tr><tr><th>3</th><td>virginica</td><td>329.4</td><td>6.588</td><td>148.7</td><td>2.974</td><td>277.6</td><td>5.552</td><td>101.3</td><td>2.026</td></tr></table>"
      ],
      "text/plain": [
       "3×9 DataFrames.DataFrame\n",
       "│ Row │ Species      │ SepalLength_sum │ SepalLength_mean │ SepalWidth_sum │\n",
       "├─────┼──────────────┼─────────────────┼──────────────────┼────────────────┤\n",
       "│ 1   │ setosa     │ 250.3           │ 5.006            │ 171.4          │\n",
       "│ 2   │ versicolor │ 296.8           │ 5.936            │ 138.5          │\n",
       "│ 3   │ virginica  │ 329.4           │ 6.588            │ 148.7          │\n",
       "\n",
       "│ Row │ SepalWidth_mean │ PetalLength_sum │ PetalLength_mean │ PetalWidth_sum │\n",
       "├─────┼─────────────────┼─────────────────┼──────────────────┼────────────────┤\n",
       "│ 1   │ 3.428           │ 73.1            │ 1.462            │ 12.3           │\n",
       "│ 2   │ 2.77            │ 213.0           │ 4.26             │ 66.3           │\n",
       "│ 3   │ 2.974           │ 277.6           │ 5.552            │ 101.3          │\n",
       "\n",
       "│ Row │ PetalWidth_mean │\n",
       "├─────┼─────────────────┤\n",
       "│ 1   │ 0.246           │\n",
       "│ 2   │ 1.326           │\n",
       "│ 3   │ 2.026           │"
      ]
     },
     "execution_count": 8,
     "metadata": {},
     "output_type": "execute_result"
    }
   ],
   "source": [
    "aggregate(iris, :Species, [sum, mean])"
   ]
  },
  {
   "cell_type": "code",
   "execution_count": 9,
   "metadata": {
    "collapsed": false
   },
   "outputs": [
    {
     "name": "stdout",
     "output_type": "stream",
     "text": [
      "50\n",
      "50\n",
      "50\n"
     ]
    }
   ],
   "source": [
    "for subdf in groupby(iris, :Species)\n",
    "    println(size(subdf, 1))\n",
    "end"
   ]
  },
  {
   "cell_type": "code",
   "execution_count": null,
   "metadata": {
    "collapsed": true
   },
   "outputs": [],
   "source": []
  }
 ],
 "metadata": {
  "kernelspec": {
   "display_name": "Julia 0.5.0",
   "language": "julia",
   "name": "julia-0.5"
  },
  "language_info": {
   "file_extension": ".jl",
   "mimetype": "application/julia",
   "name": "julia",
   "version": "0.5.0"
  }
 },
 "nbformat": 4,
 "nbformat_minor": 1
}
